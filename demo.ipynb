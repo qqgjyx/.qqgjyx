{
 "cells": [
  {
   "cell_type": "code",
   "execution_count": 1,
   "id": "267c8d54",
   "metadata": {},
   "outputs": [
    {
     "name": "stdout",
     "output_type": "stream",
     "text": [
      "Requirement already satisfied: qqgjyx in /opt/anaconda3/envs/ml/lib/python3.12/site-packages (0.1.1)\n",
      "Note: you may need to restart the kernel to use updated packages.\n"
     ]
    }
   ],
   "source": [
    "%pip install qqgjyx"
   ]
  },
  {
   "cell_type": "code",
   "execution_count": 2,
   "id": "fdc81536",
   "metadata": {},
   "outputs": [
    {
     "ename": "ImportError",
     "evalue": "cannot import name 'QQ' from 'qqgjyx' (/opt/anaconda3/envs/ml/lib/python3.12/site-packages/qqgjyx/__init__.py)",
     "output_type": "error",
     "traceback": [
      "\u001b[0;31m---------------------------------------------------------------------------\u001b[0m",
      "\u001b[0;31mImportError\u001b[0m                               Traceback (most recent call last)",
      "Cell \u001b[0;32mIn[2], line 1\u001b[0m\n\u001b[0;32m----> 1\u001b[0m \u001b[38;5;28;01mfrom\u001b[39;00m \u001b[38;5;21;01mqqgjyx\u001b[39;00m \u001b[38;5;28;01mimport\u001b[39;00m QQ\n\u001b[1;32m      3\u001b[0m \u001b[38;5;66;03m# Quick start\u001b[39;00m\n\u001b[1;32m      4\u001b[0m QQ\u001b[38;5;241m.\u001b[39mhelp()      \u001b[38;5;66;03m# See all functions\u001b[39;00m\n",
      "\u001b[0;31mImportError\u001b[0m: cannot import name 'QQ' from 'qqgjyx' (/opt/anaconda3/envs/ml/lib/python3.12/site-packages/qqgjyx/__init__.py)"
     ]
    }
   ],
   "source": [
    "from qqgjyx import QQ\n",
    "\n",
    "# Quick start\n",
    "QQ.help()      # See all functions\n",
    "QQ.env()       # Environment info\n",
    "QQ.dev()       # Device info\n",
    "QQ.seed(42)    # Set seeds\n",
    "QQ.style()     # Set matplotlib style"
   ]
  },
  {
   "cell_type": "code",
   "execution_count": null,
   "id": "4eb052ea",
   "metadata": {},
   "outputs": [],
   "source": []
  }
 ],
 "metadata": {
  "kernelspec": {
   "display_name": "ml",
   "language": "python",
   "name": "python3"
  },
  "language_info": {
   "codemirror_mode": {
    "name": "ipython",
    "version": 3
   },
   "file_extension": ".py",
   "mimetype": "text/x-python",
   "name": "python",
   "nbconvert_exporter": "python",
   "pygments_lexer": "ipython3",
   "version": "3.12.2"
  }
 },
 "nbformat": 4,
 "nbformat_minor": 5
}
