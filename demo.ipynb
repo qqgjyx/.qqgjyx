{
 "cells": [
  {
   "cell_type": "code",
   "execution_count": 1,
   "id": "267c8d54",
   "metadata": {},
   "outputs": [
    {
     "name": "stdout",
     "output_type": "stream",
     "text": [
      "Requirement already satisfied: qqgjyx in /opt/anaconda3/envs/ml/lib/python3.12/site-packages (0.1.2)\n",
      "Note: you may need to restart the kernel to use updated packages.\n"
     ]
    }
   ],
   "source": [
    "%pip install qqgjyx"
   ]
  },
  {
   "cell_type": "code",
   "execution_count": 2,
   "id": "fdc81536",
   "metadata": {},
   "outputs": [
    {
     "name": "stdout",
     "output_type": "stream",
     "text": [
      "QQ Utilities:\n",
      "  QQ.env()     - Show environment info\n",
      "  QQ.dev()     - Get device info\n",
      "  QQ.seed(n)   - Set seeds (default: 42)\n",
      "  QQ.style()   - Set matplotlib style\n",
      "  QQ.split(d)  - Split dataset\n",
      "  QQ.help()    - Show this help\n",
      "\n",
      "Usage:\n",
      "  from qqgjyx import QQ\n",
      "  QQ.env()\n",
      "  QQ.seed(123)\n",
      "\n",
      "=== Environment Information ===\n",
      "Python version: 3.12.2\n",
      "PyTorch version: 2.6.0\n",
      "NumPy version: 1.26.4\n",
      "Platform: macOS-15.6.1-arm64-arm-64bit\n",
      "============================\n",
      "\n",
      "\n",
      "=== Device Information ===\n",
      "CUDA available: False\n",
      "Using device: cpu\n",
      "========================\n",
      "\n"
     ]
    },
    {
     "name": "stderr",
     "output_type": "stream",
     "text": [
      "Seed set to 42\n"
     ]
    },
    {
     "name": "stdout",
     "output_type": "stream",
     "text": [
      "\n",
      "=== Setting Random Seeds ===\n",
      "Seed value: 42\n",
      "Setting torch CPU seed...\n",
      "Setting torch CUDA seed...\n",
      "Setting numpy seed...\n",
      "Configuring CUDNN...\n",
      "Configuring PL...\n",
      "========================\n",
      "\n"
     ]
    }
   ],
   "source": [
    "from qqgjyx import QQ\n",
    "\n",
    "# Quick start\n",
    "QQ.help()      # See all functions\n",
    "QQ.env()       # Environment info\n",
    "QQ.dev()       # Device info\n",
    "QQ.seed(42)    # Set seeds\n",
    "QQ.style()     # Set matplotlib style"
   ]
  },
  {
   "cell_type": "code",
   "execution_count": null,
   "id": "4eb052ea",
   "metadata": {},
   "outputs": [],
   "source": []
  }
 ],
 "metadata": {
  "kernelspec": {
   "display_name": "ml",
   "language": "python",
   "name": "python3"
  },
  "language_info": {
   "codemirror_mode": {
    "name": "ipython",
    "version": 3
   },
   "file_extension": ".py",
   "mimetype": "text/x-python",
   "name": "python",
   "nbconvert_exporter": "python",
   "pygments_lexer": "ipython3",
   "version": "3.12.2"
  }
 },
 "nbformat": 4,
 "nbformat_minor": 5
}
